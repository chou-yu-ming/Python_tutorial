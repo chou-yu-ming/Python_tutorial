{
 "cells": [
  {
   "cell_type": "markdown",
   "metadata": {},
   "source": [
    "# Python turorial\n",
    "---\n",
    "## Variable\n",
    "- integer (int)\n",
    "- string  (str)\n",
    "- float"
   ]
  },
  {
   "cell_type": "code",
   "execution_count": 4,
   "metadata": {},
   "outputs": [
    {
     "name": "stdout",
     "output_type": "stream",
     "text": [
      "10 I 520.52\n"
     ]
    }
   ],
   "source": [
    "a = 10\n",
    "b = \"I love u\"\n",
    "c = 520.520\n",
    "\n",
    "print(a, b, c)"
   ]
  },
  {
   "cell_type": "markdown",
   "metadata": {},
   "source": [
    "### Transfer\n",
    "- int()\n",
    "- str()\n",
    "- float()"
   ]
  },
  {
   "cell_type": "code",
   "execution_count": 6,
   "metadata": {},
   "outputs": [
    {
     "name": "stdout",
     "output_type": "stream",
     "text": [
      "10 520.52\n"
     ]
    }
   ],
   "source": [
    "str(a)\n",
    "int(c)\n",
    "\n",
    "print(a, c)"
   ]
  },
  {
   "cell_type": "markdown",
   "metadata": {},
   "source": [
    "---\n",
    "## Data Structure\n",
    "- List\n",
    "- Tuple\n",
    "- Dictionary\n",
    "\n",
    "#### [INDEX]"
   ]
  },
  {
   "cell_type": "code",
   "execution_count": 11,
   "metadata": {},
   "outputs": [
    {
     "name": "stdout",
     "output_type": "stream",
     "text": [
      "I love u\n",
      "(520, 'I love u', 1, 2, 3)\n",
      "[520, 'I love u', 1, 2, 3]\n",
      "319 415\n"
     ]
    }
   ],
   "source": [
    "List = [520, \"I love u\", 1, 2, 3] #ordered\n",
    "List1 = [] #creat list \n",
    "List2 = list() #creat list\n",
    "\n",
    "print(List[1])\n",
    "\n",
    "Tuple = (520, \"I love u\", 1, 2, 3) #不常用 #unorderd\n",
    "List3 = list(Tuple) #transfer to list\n",
    "print(Tuple)\n",
    "print(List3)\n",
    "\n",
    "Dict = {\"Amy\":319 , \"Henry\":415, \"Amystr\":\"0319\", \"Henrystr\":\"0415\"} #ordered\n",
    "print(Dict[\"Amy\"], Dict[\"Henry\"])\n"
   ]
  },
  {
   "cell_type": "markdown",
   "metadata": {},
   "source": [
    "---\n",
    "## Contional Statement\n",
    "- if"
   ]
  },
  {
   "cell_type": "code",
   "execution_count": 13,
   "metadata": {},
   "outputs": [
    {
     "name": "stdout",
     "output_type": "stream",
     "text": [
      "a is 1\n"
     ]
    }
   ],
   "source": [
    "a = 1\n",
    "\n",
    "if a == 1:\n",
    "    print(\"a is 1\")\n",
    "elif a == 0: #很多個\n",
    "    print(\"a is 0\")\n",
    "else:\n",
    "    print(\"a is unknown\")"
   ]
  },
  {
   "cell_type": "markdown",
   "metadata": {},
   "source": [
    "## Loop Statement\n",
    "- for\n",
    "- while"
   ]
  },
  {
   "cell_type": "code",
   "execution_count": 14,
   "metadata": {},
   "outputs": [
    {
     "name": "stdout",
     "output_type": "stream",
     "text": [
      "range(0, 5)\n"
     ]
    }
   ],
   "source": [
    "list = range(0,5) # >=0, <5\n",
    "print(list)"
   ]
  },
  {
   "cell_type": "code",
   "execution_count": 15,
   "metadata": {},
   "outputs": [
    {
     "name": "stdout",
     "output_type": "stream",
     "text": [
      "Amy\n",
      "Henry\n"
     ]
    }
   ],
   "source": [
    "list = [\"Amy\", \"Henry\"]\n",
    "\n",
    "for i in list:\n",
    "    print(i)"
   ]
  },
  {
   "cell_type": "code",
   "execution_count": 20,
   "metadata": {},
   "outputs": [
    {
     "name": "stdout",
     "output_type": "stream",
     "text": [
      "第 1 次\n",
      "第 2 次\n",
      "第 3 次\n",
      "第 4 次\n",
      "第 5 次\n",
      "第 6 次\n",
      "第 7 次\n",
      "第 8 次\n",
      "第 9 次\n",
      "第 10 次\n",
      "Amy sleeps\n",
      "Amy sleeps\n",
      "Amy sleeps\n",
      "Amy sleeps\n",
      "Amy sleeps\n"
     ]
    }
   ],
   "source": [
    "for i in range(0,10):\n",
    "    print(\"第\",i+1,\"次\")\n",
    "\n",
    "for i in range(0,5):\n",
    "    print(\"Amy sleeps\")"
   ]
  },
  {
   "cell_type": "code",
   "execution_count": 23,
   "metadata": {},
   "outputs": [
    {
     "name": "stdout",
     "output_type": "stream",
     "text": [
      "Amy is working 1\n",
      "Amy is working 2\n",
      "Amy is working 3\n",
      "Amy is working 4\n",
      "Amy is working 5\n",
      "Amy is working 6\n",
      "Amy is working 7\n",
      "Amy is working 8\n",
      "Amy is working 9\n",
      "Amy is working 10\n",
      "Amy wants to sleep\n"
     ]
    }
   ],
   "source": [
    "situation = \"Amy is working\"\n",
    "i = 1\n",
    "\n",
    "while situation == \"Amy is working\":\n",
    "    print(\"Amy is working\", i)\n",
    "\n",
    "    if(i == 10):\n",
    "        situation = \"Amy wants to sleep\"\n",
    "\n",
    "    i = i+1\n",
    "\n",
    "print(situation)\n"
   ]
  },
  {
   "cell_type": "code",
   "execution_count": null,
   "metadata": {},
   "outputs": [],
   "source": []
  }
 ],
 "metadata": {
  "kernelspec": {
   "display_name": "base",
   "language": "python",
   "name": "python3"
  },
  "language_info": {
   "codemirror_mode": {
    "name": "ipython",
    "version": 3
   },
   "file_extension": ".py",
   "mimetype": "text/x-python",
   "name": "python",
   "nbconvert_exporter": "python",
   "pygments_lexer": "ipython3",
   "version": "3.9.7"
  }
 },
 "nbformat": 4,
 "nbformat_minor": 2
}
